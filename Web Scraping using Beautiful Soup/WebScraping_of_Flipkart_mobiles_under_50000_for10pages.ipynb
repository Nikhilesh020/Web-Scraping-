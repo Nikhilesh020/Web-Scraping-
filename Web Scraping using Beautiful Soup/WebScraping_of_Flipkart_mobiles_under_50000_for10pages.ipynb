{
 "cells": [
  {
   "cell_type": "code",
   "execution_count": 1,
   "id": "726051ba",
   "metadata": {},
   "outputs": [],
   "source": [
    "import pandas as pd\n",
    "import requests\n",
    "from bs4 import BeautifulSoup"
   ]
  },
  {
   "cell_type": "code",
   "execution_count": 2,
   "id": "2d266ca2",
   "metadata": {
    "scrolled": true
   },
   "outputs": [
    {
     "name": "stdout",
     "output_type": "stream",
     "text": [
      "                                   Product_name   Prices  \\\n",
      "0           APPLE iPhone 8 Plus (Silver, 64 GB)  ₹49,900   \n",
      "1       APPLE iPhone 8 Plus (Space Grey, 64 GB)  ₹49,900   \n",
      "2                                Good One G5605     ₹999   \n",
      "3                               Good One G5605N     ₹999   \n",
      "4                   IQOO 9T 5G (LEGEND, 128 GB)  ₹49,499   \n",
      "..                                          ...      ...   \n",
      "235   realme 11 Pro+ 5G (Sunrise Beige, 256 GB)  ₹25,999   \n",
      "236               realme C55 (Sunshower, 64 GB)   ₹8,499   \n",
      "237           realme 11 5G (Glory Gold, 256 GB)  ₹18,999   \n",
      "238    Infinix Note 30 5G (Magic Black, 256 GB)  ₹14,999   \n",
      "239  SAMSUNG Galaxy M14 5G (Icy Silver, 128 GB)  ₹13,084   \n",
      "\n",
      "                                           Description Reviews  \n",
      "0    64 GB ROM13.97 cm (5.5 inch) Retina HD Display...     4.6  \n",
      "1    64 GB ROM13.97 cm (5.5 inch) Retina HD Display...     4.6  \n",
      "2    32 MB RAM | 32 MB ROM | Expandable Upto 32 GB4...     3.8  \n",
      "3    32 MB RAM | 32 MB ROM | Expandable Upto 32 GB4...     3.8  \n",
      "4    8 GB RAM | 128 GB ROM17.22 cm (6.78 inch) Disp...     4.1  \n",
      "..                                                 ...     ...  \n",
      "235  8 GB RAM | 256 GB ROM17.02 cm (6.7 inch) Full ...     4.3  \n",
      "236  4 GB RAM | 64 GB ROM | Expandable Upto 1 TB17....     4.4  \n",
      "237  8 GB RAM | 256 GB ROM | Expandable Upto 2 TB17...     4.3  \n",
      "238  8 GB RAM | 256 GB ROM | Expandable Upto 2 TB17...     4.2  \n",
      "239  6 GB RAM | 128 GB ROM16.76 cm (6.6 inch) Displ...     4.2  \n",
      "\n",
      "[240 rows x 4 columns]\n"
     ]
    }
   ],
   "source": [
    "Product_name=[] ; Prices=[] ; Description=[] ; Reviews=[]\n",
    "for i in range(2,12):\n",
    "    url = \"https://www.flipkart.com/search?q=mobile+under+50000&otracker=search&otracker1=search&marketplace=FLIPKART&as-show=on&as=off&page=\"+str(i)\n",
    "    html_text = requests.get(url)\n",
    "    soup = BeautifulSoup(html_text.text,\"lxml\")\n",
    "    box = soup.find(\"div\",class_=\"_1YokD2 _3Mn1Gg\")\n",
    "    names = box.find_all(\"div\", class_=\"_4rR01T\")\n",
    "    # print(\"MOBILE NAMES\")\n",
    "    for i in names:\n",
    "        name = i.text\n",
    "        Product_name.append(name)\n",
    "    \n",
    "    # MOBILE PRICES\n",
    "    prices=box.find_all(\"div\",class_=\"_30jeq3 _1_WHN1\")\n",
    "    for i in prices:\n",
    "        price = i.text\n",
    "        #price = float(price.split('¹')[1].replace(',','')) #To convert string price into float price\n",
    "        Prices.append(price)\n",
    "    # print(Prices)\n",
    "\n",
    "    # print(\"MOBILE DESCRIPTION\")\n",
    "    desc = box.find_all(\"ul\",class_=\"_1xgFaf\")\n",
    "    for i in desc:\n",
    "        des = i.text\n",
    "        Description.append(des)\n",
    "    # print(Description)\n",
    "\n",
    "    # print(\"MOBILE REVIEWS\")\n",
    "    revs = box.find_all(\"div\",class_=\"_3LWZlK\")\n",
    "    for i in revs:\n",
    "        rev = i.text\n",
    "        Reviews.append(rev)\n",
    "    # print(Reviews)\n",
    "\n",
    "df = pd.DataFrame({\"Product_name\":Product_name,\"Prices\":Prices,\"Description\":Description,\"Reviews\":Reviews})\n",
    "print(df)\n",
    "df.to_csv(\"./flipkart_mobiles_under_50000.csv\")"
   ]
  },
  {
   "cell_type": "code",
   "execution_count": 3,
   "id": "715e6188",
   "metadata": {},
   "outputs": [
    {
     "name": "stdout",
     "output_type": "stream",
     "text": [
      "240 240 240 240\n"
     ]
    }
   ],
   "source": [
    "print(len(Product_name),len(Prices),len(Description),len(Reviews))"
   ]
  }
 ],
 "metadata": {
  "kernelspec": {
   "display_name": "Python 3 (ipykernel)",
   "language": "python",
   "name": "python3"
  },
  "language_info": {
   "codemirror_mode": {
    "name": "ipython",
    "version": 3
   },
   "file_extension": ".py",
   "mimetype": "text/x-python",
   "name": "python",
   "nbconvert_exporter": "python",
   "pygments_lexer": "ipython3",
   "version": "3.10.9"
  }
 },
 "nbformat": 4,
 "nbformat_minor": 5
}
