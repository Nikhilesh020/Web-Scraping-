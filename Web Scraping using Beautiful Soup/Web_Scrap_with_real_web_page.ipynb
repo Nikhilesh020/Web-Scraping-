{
 "cells": [
  {
   "cell_type": "code",
   "execution_count": null,
   "id": "1b93297b-8dec-4854-862b-be9944426444",
   "metadata": {},
   "outputs": [],
   "source": [
    "# Prerequisites\n",
    "    # 1. Python3\n",
    "    # 2. Library requests for making HTTP requests.\n",
    "    #         Command on cmd: pip install requests\n",
    "    # 3. Library BeautifulSoup for parsing HTML and XML documents \n",
    "    #         Command on cmd: pip install beautifulsoup4\n",
    "    # 4. For this program, create empty posts directory to save output files into it\n",
    "    # 5. Library time, to use sleep function to regenrate output untill user interruption"
   ]
  },
  {
   "cell_type": "markdown",
   "id": "7c1c10c5-2303-426f-b68f-674ed2971522",
   "metadata": {},
   "source": [
    "#### Program to execute Jobs at Delhi for Python technology using BeautifulSoup"
   ]
  },
  {
   "cell_type": "code",
   "execution_count": null,
   "id": "f991044f-4165-4fe7-b46e-8a0be5323fdf",
   "metadata": {},
   "outputs": [],
   "source": [
    "from bs4 import BeautifulSoup\n",
    "import requests\n",
    "import time"
   ]
  },
  {
   "cell_type": "code",
   "execution_count": null,
   "id": "c382210d-567d-41be-823c-c322f1230bd5",
   "metadata": {},
   "outputs": [],
   "source": [
    "def find_jobs():\n",
    "    # Store link into html_text variable\n",
    "    html_text = requests.get(\"https://www.timesjobs.com/candidate/job-search.html?searchType=personalizedSearch&from=submit&searchTextSrc=ft&searchTextText=&txtKeywords=Python&txtLocation=Delhi\").text\n",
    "    soup = BeautifulSoup(html_text,'lxml')\n",
    "    jobs = soup.find_all('li', class_=\"clearfix job-bx wht-shd-bx\")\n",
    "\n",
    "    for index, job in enumerate(jobs):\n",
    "        published_date = job.find('span', class_='sim-posted').span.text\n",
    "        if 'few' in published_date:\n",
    "            company_name = job.find('h3', class_=\"joblist-comp-name\").text.replace('  ','')\n",
    "            skills = job.find('span', class_=\"srp-skills\").text.replace('  ','')\n",
    "            more_info = job.header.h2.a['href']\n",
    "\n",
    "            # Write output directly into .txt file format\n",
    "            with open(f\"./posts/{index}.txt\",'w') as file:\n",
    "                file.write(f\"Company: {company_name.strip()}\\n\")\n",
    "                file.write(f\"Required skills: {skills.strip()}\\n\")\n",
    "                file.write(f\"More info: {more_info}\\n\")\n",
    "            print(f'File saved: {index}')"
   ]
  },
  {
   "cell_type": "code",
   "execution_count": null,
   "id": "8acad3b2-135d-45ad-96ad-70076d889aa8",
   "metadata": {},
   "outputs": [],
   "source": [
    "if __name__ =='__main__':\n",
    "    while True:\n",
    "        find_jobs()\n",
    "        time_wait = 2 # 5 minutes of wait to get updated jobs\n",
    "        print(f'Waiting for {time_wait} minutes...')\n",
    "        time.sleep(time_wait*60)\n",
    "        "
   ]
  }
 ],
 "metadata": {
  "kernelspec": {
   "display_name": "Python 3 (ipykernel)",
   "language": "python",
   "name": "python3"
  },
  "language_info": {
   "codemirror_mode": {
    "name": "ipython",
    "version": 3
   },
   "file_extension": ".py",
   "mimetype": "text/x-python",
   "name": "python",
   "nbconvert_exporter": "python",
   "pygments_lexer": "ipython3",
   "version": "3.10.11"
  }
 },
 "nbformat": 4,
 "nbformat_minor": 5
}
