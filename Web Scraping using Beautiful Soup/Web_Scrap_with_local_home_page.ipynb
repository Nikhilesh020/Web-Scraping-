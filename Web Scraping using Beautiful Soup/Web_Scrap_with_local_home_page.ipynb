{
 "cells": [
  {
   "cell_type": "code",
   "execution_count": 1,
   "id": "426415c7-fce3-40f2-a95a-bea3590f03a1",
   "metadata": {},
   "outputs": [],
   "source": [
    "# Prerequisite required\n",
    "#    1. Python3\n",
    "#    2. Library BeautifulSoup for parsing HTML and XML documents \n",
    "#            Command on cmd: pip install beautifulsoup4\n",
    "#    3. For this program, home.html in same directory\n",
    "#    4. Library lxml for processing XML and HTML in the Python language.\n",
    "#            Command on cmd: pip install lxml"
   ]
  },
  {
   "cell_type": "code",
   "execution_count": 2,
   "id": "7e4846a6-3f5e-447d-ba5d-64ffaf3ae3fd",
   "metadata": {},
   "outputs": [],
   "source": [
    "from bs4 import BeautifulSoup"
   ]
  },
  {
   "cell_type": "code",
   "execution_count": 4,
   "id": "2ba129ea-b702-4b26-8eea-3027dfb2368c",
   "metadata": {},
   "outputs": [],
   "source": [
    "with open('home.html',mode='r') as html_file:\n",
    "    # Raw content output\n",
    "    content = html_file.read()\n",
    "    # print(content)\n",
    "\n",
    "    # Raw content output with beautification for better understanding/visualization\n",
    "    soup = BeautifulSoup(content,'lxml')\n",
    "    # print(soup.prettify())"
   ]
  },
  {
   "cell_type": "code",
   "execution_count": 8,
   "id": "6c210aeb-701e-4560-837c-b5224b60953a",
   "metadata": {},
   "outputs": [
    {
     "name": "stdout",
     "output_type": "stream",
     "text": [
      "Tags output of Course name from local webpage home.html\n",
      "Python for beginners\n",
      "Python Web Development\n",
      "Python Machine Learning\n"
     ]
    }
   ],
   "source": [
    "    # To get course name only\n",
    "    tags = soup.find_all(\"h5\")\n",
    "    print(\"Tags output of Course name from local webpage home.html\")\n",
    "    for i in tags:\n",
    "        print(i.text)"
   ]
  },
  {
   "cell_type": "code",
   "execution_count": 10,
   "id": "31aea2c9-34ba-4bea-9a44-55595473f004",
   "metadata": {},
   "outputs": [
    {
     "name": "stdout",
     "output_type": "stream",
     "text": [
      "\n",
      "Course along with its course fee\n",
      "Python for beginners cost 20$\n",
      "Python Web Development cost 50$\n",
      "Python Machine Learning cost 100$\n"
     ]
    }
   ],
   "source": [
    "    # To get course list and its respective course prices\n",
    "    course_cards = soup.find_all('div',class_='card')\n",
    "    print(\"\\nCourse along with its course fee\")\n",
    "    for course in course_cards:\n",
    "        course_name = course.h5.text\n",
    "        course_price = course.a.text.split(' ')[-1]\n",
    "        print(f\"{course_name} cost {course_price}\")\n",
    "        "
   ]
  },
  {
   "cell_type": "code",
   "execution_count": null,
   "id": "982e2da5-1b47-4617-98a8-b8114c5cf3f8",
   "metadata": {},
   "outputs": [],
   "source": []
  },
  {
   "cell_type": "code",
   "execution_count": null,
   "id": "6b3cec8b-e7c7-4bca-96a6-6b7de252e878",
   "metadata": {},
   "outputs": [],
   "source": []
  }
 ],
 "metadata": {
  "kernelspec": {
   "display_name": "Python 3 (ipykernel)",
   "language": "python",
   "name": "python3"
  },
  "language_info": {
   "codemirror_mode": {
    "name": "ipython",
    "version": 3
   },
   "file_extension": ".py",
   "mimetype": "text/x-python",
   "name": "python",
   "nbconvert_exporter": "python",
   "pygments_lexer": "ipython3",
   "version": "3.10.11"
  }
 },
 "nbformat": 4,
 "nbformat_minor": 5
}
